{
 "cells": [
  {
   "cell_type": "markdown",
   "metadata": {
    "colab_type": "text",
    "id": "KtbBxXk6Eshi"
   },
   "source": [
    "# ECS795 AI - Lab 1: Basics of coding in Python \n",
    "\n",
    "Python is an *interpreted* language. This means that the instructions are executed directly (by an \"interpreter\"), and you don't have to \"compile\" your code. In addition, you don't need to declare a type for your variables since they are dynamically assigned depending on their content or usage.\n",
    "\n",
    "Python uses **indentation** (whitespaces, created e.g. with pressing the tab key) to delimit a code block (instead of curly brackets, or begin/end keywords, etc). If you don't indent properly, your code will either not run, or worse, will do something unintended.\n",
    "\n",
    "We are going to overview some basic functionalities of Python that are needed for the future labs and coursework exercises. You might be familiar with some of them, but please make sure you are comfortable with all of them.\n",
    "\n",
    "Note that the following codes are in Python 3 (not 2), if you are using your own python environment.\n"
   ]
  },
  {
   "cell_type": "markdown",
   "metadata": {
    "colab_type": "text",
    "id": "4haaQAfJYssD"
   },
   "source": [
    "## Notebook\n",
    "\n",
    "This environment that allows us to enter both text and run codes interactively, is called ***[notebook](https://jupyter.org/)***).\n",
    "\n",
    "Notebooks can be composed of two types of cells: *Text* and *Code*. You can add your own cells (in colab, hover your mouse over the edge between two cells, an option should pop up to add either a text cell or a code cell) \n",
    "\n",
    "You can edit the content of the *text* cells by double-clicking on them. It follows the [markup rules](https://github.com/adam-p/markdown-here/wiki/Markdown-Cheatsheet). \n",
    "\n",
    "In order to **execute (run) a cell**, you can use one of the following ways:\n",
    "\n",
    "1. `Shift + Enter` : executes a cell and goes to the next one.\n",
    "2. `Ctrl + Enter` : executes a block but stays at the same block. \n",
    "3. The above is equivalent to clicking on the *run* button to the left of the cell, which appears when you hover the mouse over the brackets `[ ]` icon. \n",
    "4. Use the `Runtime` tab (at the top of the page), which gives you more options as well.\n",
    "\n",
    "### some useful tricks in Notebook:\n",
    "\n",
    "- While writing a code (in a code-type block), you can use the **`tab`** key for **auto-completion**. You can also use `tab` after a **`dot`** to be shown a drop-down list of the available attributes and methods on an object or a class. \n",
    "\n",
    "- Another cool feature of the `notebook` environment is that in order to get **help** on anything (a method, a function, an object, etc), you can just put a question mark in front of it (without any space) and execute that line! A help box will appear, which you can close after reading.\n",
    "\n",
    "- Something to keep in mind is that objects and functions (runtime variables) persist between different cells in the same notebook session. If you want to clear the memroy, you can choose \"Reset all runtimes...\" under the \"Runtime\" tab from the top-left menue."
   ]
  },
  {
   "cell_type": "markdown",
   "metadata": {
    "colab_type": "text",
    "id": "hUiI8HvMW5eS"
   },
   "source": [
    "## Interacting with the user\n",
    "To display information, or ask for the user's input, we can use `print()` and `input()` functions. Here is an example:"
   ]
  },
  {
   "cell_type": "code",
   "execution_count": 0,
   "metadata": {
    "colab": {},
    "colab_type": "code",
    "id": "Nb8ny_b-HQS1"
   },
   "outputs": [],
   "source": [
    "user_input = input(\"What is your name? \")\n",
    "print(\"Hello {}! How can I help you?\".format(user_input.capitalize()))"
   ]
  },
  {
   "cell_type": "markdown",
   "metadata": {
    "colab_type": "text",
    "id": "8pBgIWI-HrVk"
   },
   "source": [
    "You can of course customise the message displayed to ask information. Also note the (optional) usage of string formatting inside the print function. So the second instruction is just equivalent to:\n"
   ]
  },
  {
   "cell_type": "code",
   "execution_count": 0,
   "metadata": {
    "colab": {},
    "colab_type": "code",
    "id": "CXndkvdOc1DX"
   },
   "outputs": [],
   "source": [
    "print(\"Hello \", end='') \n",
    "print(user_input, end='')\n",
    "print(\"! How can I help you?\")"
   ]
  },
  {
   "cell_type": "markdown",
   "metadata": {
    "colab_type": "text",
    "id": "C_O4lJkZcmKn"
   },
   "source": [
    "*NOTE:* You can ask for strings or numbers. However, be careful the type that `input()` returns is **always a string**. If you want to ask the user for an integer or a float number, then you can use **type-casting** using `int()` and `float()` functions:\n"
   ]
  },
  {
   "cell_type": "code",
   "execution_count": 0,
   "metadata": {
    "colab": {},
    "colab_type": "code",
    "id": "8LNkWLf8ezlY"
   },
   "outputs": [],
   "source": [
    "user_input = input(\"What year were you born in (e.g. 1998)? \")\n",
    "user_YearBorn = int(user_input)\n",
    "user_age = 2020 - user_YearBorn\n",
    "print(\"If you were really born in {0}, you must be {1} years old!\".format(user_YearBorn, user_age))"
   ]
  },
  {
   "cell_type": "markdown",
   "metadata": {
    "colab_type": "text",
    "id": "AhjMvjnhh1n5"
   },
   "source": [
    "You can also type-cast from numbers (integer or float) to string by using the `str()` function."
   ]
  },
  {
   "cell_type": "markdown",
   "metadata": {
    "colab_type": "text",
    "id": "FIo1Rg7xcbQG"
   },
   "source": [
    "\n",
    "## Conditions in Python\n",
    "It is typical to want to execute an operation only in some specific cases. It comes down to creating conditions. For instance:"
   ]
  },
  {
   "cell_type": "code",
   "execution_count": 0,
   "metadata": {
    "colab": {},
    "colab_type": "code",
    "id": "BTKbLbxvIUdm"
   },
   "outputs": [],
   "source": [
    " val = 7\n",
    " if val < 3:\n",
    "   print(\"The input value is smaller than 3\")\n",
    " elif val <= 5:\n",
    "   print(\"The input value is either 3, 4 or 5\")\n",
    " else:\n",
    "   print(\"The value is greater than 5\")"
   ]
  },
  {
   "cell_type": "markdown",
   "metadata": {
    "colab_type": "text",
    "id": "MS2WmcbkIa0O"
   },
   "source": [
    "Pay attention to the use of *indentation* as well as `:` (the colons). \n",
    "\n",
    "Recall that indentations are NOT optional in Python (so as to only make the code read better!) but rather a strict part of the syntax.   \n",
    "\n",
    "Feel free to change `val` and set it to `1`, `3`, and `4`. You can also change the conditions (using `>, >=, ==`) or just change the thresholds.\n",
    "\n"
   ]
  },
  {
   "cell_type": "markdown",
   "metadata": {
    "colab_type": "text",
    "id": "Sf-0uCSTistL"
   },
   "source": [
    "## Using `range()`\n",
    "Python provides a useful function, `range()` that will create an object containing a set of numbers according to its parameters. For instance:"
   ]
  },
  {
   "cell_type": "code",
   "execution_count": 0,
   "metadata": {
    "colab": {},
    "colab_type": "code",
    "id": "tlVwZXBQJYX6"
   },
   "outputs": [],
   "source": [
    "my_range = range(10)\n",
    "print(list(my_range))"
   ]
  },
  {
   "cell_type": "markdown",
   "metadata": {
    "colab_type": "text",
    "id": "zqP458CWJhML"
   },
   "source": [
    "Try to change the argument inside `range()` to `9` and `16`. You should observe that if we are passing only one (integer) argument to this function, it will generate all integers between 0 (**included**) and the input **not included**. \n",
    "\n",
    "Now let's try with two parameters"
   ]
  },
  {
   "cell_type": "code",
   "execution_count": 0,
   "metadata": {
    "colab": {},
    "colab_type": "code",
    "id": "7Xq2S6wOKLOB"
   },
   "outputs": [],
   "source": [
    "my_second_range = range(2, 18)\n",
    "print(list(my_second_range))"
   ]
  },
  {
   "cell_type": "markdown",
   "metadata": {
    "colab_type": "text",
    "id": "IBucusfvKTrs"
   },
   "source": [
    "Try to change the two values inside the function. As you notice, this will create an object with all the integers between the first bound (start) **included** to the second bound (stop) **not included**.\n",
    "\n",
    "Now let's try with three arguments:"
   ]
  },
  {
   "cell_type": "code",
   "execution_count": 0,
   "metadata": {
    "colab": {},
    "colab_type": "code",
    "id": "RjTLUV-AKxIm"
   },
   "outputs": [],
   "source": [
    "my_third_range = range(3, 31, 3)\n",
    "print(list(my_third_range))"
   ]
  },
  {
   "cell_type": "markdown",
   "metadata": {
    "colab_type": "text",
    "id": "2TDxpIMrLDt-"
   },
   "source": [
    "Change only the last value, and try to understand what it corresponds to. It is basically the offset between each number inside the object (step size). \n",
    "\n",
    "You should now be able to explain, in the following code, why the first print  outputs an empty list whereas the second one does:"
   ]
  },
  {
   "cell_type": "code",
   "execution_count": 0,
   "metadata": {
    "colab": {},
    "colab_type": "code",
    "id": "fZbRQxoxLoP8"
   },
   "outputs": [],
   "source": [
    "my_fourth_range = range(1, 11, -1)\n",
    "print(list(my_fourth_range))\n",
    "\n",
    "my_fifth_range = range (10, 0, -1)\n",
    "print(list(my_fifth_range))"
   ]
  },
  {
   "cell_type": "markdown",
   "metadata": {
    "colab_type": "text",
    "id": "NxLDDxyOMACk"
   },
   "source": [
    "## `For` loops\n",
    "When you need to execute the same operation a given number of times, you may want to use a `for` loop as follow:"
   ]
  },
  {
   "cell_type": "code",
   "execution_count": 0,
   "metadata": {
    "colab": {},
    "colab_type": "code",
    "id": "b801WTnSMMVO"
   },
   "outputs": [],
   "source": [
    "for index in range(1, 6):\n",
    "  print(\"This is iteration number {}.\".format(index))"
   ]
  },
  {
   "cell_type": "markdown",
   "metadata": {
    "colab_type": "text",
    "id": "uLcacrFoMe4t"
   },
   "source": [
    "If you change the `6` to `10`, what happens? \n",
    "\n",
    "Note that you can of course **nest** `for` loops (again, don't forget the indentation):"
   ]
  },
  {
   "cell_type": "code",
   "execution_count": 0,
   "metadata": {
    "colab": {},
    "colab_type": "code",
    "id": "-1FbXKNZMwKj"
   },
   "outputs": [],
   "source": [
    "for first_index in range(5):\n",
    "  for second_index in range(3):\n",
    "    print(\"First (outer) index: {}, Second (inner) index: {}\".format(first_index, second_index))"
   ]
  },
  {
   "cell_type": "markdown",
   "metadata": {
    "colab_type": "text",
    "id": "3Mc2wHOaNH7R"
   },
   "source": [
    "How many times did the loop run, i.e. how many messages have been printed? Change the values in the two ranges to understand the sequence of operations.\n",
    "\n",
    "## `While` loop\n",
    "In some scenario, we don't know how many times. or for how long, we want to repeat some instructions. For such occasions, we can iterate until a given condition has been met. For instance:"
   ]
  },
  {
   "cell_type": "code",
   "execution_count": 0,
   "metadata": {
    "colab": {},
    "colab_type": "code",
    "id": "nktR9iaiOS7h"
   },
   "outputs": [],
   "source": [
    "answer = 0\n",
    "while answer != 4:\n",
    "  answer = int(input(\"What is 2 + 2? \"))\n",
    "\n",
    "print(\"\\nCongrats, you have shown some trace of intelligence!\")\n",
    "  "
   ]
  },
  {
   "cell_type": "markdown",
   "metadata": {
    "colab_type": "text",
    "id": "L74jCHcqO2We"
   },
   "source": [
    "Try to run the above cell while initially giving the *wrong* answer (so *not* 4). \n",
    "\n"
   ]
  },
  {
   "cell_type": "markdown",
   "metadata": {
    "colab_type": "text",
    "id": "WVr46DTl7EqV"
   },
   "source": [
    "## Lists\n",
    "List is one of the basic data types in Python, holding a collection of items with a specific order. \n",
    "\n",
    "One of the properties of python's list is that it can contain elements of different types:"
   ]
  },
  {
   "cell_type": "code",
   "execution_count": 0,
   "metadata": {
    "colab": {},
    "colab_type": "code",
    "id": "UqwXGD28PhpS"
   },
   "outputs": [],
   "source": [
    "my_list = [\"Welcome to AI\", 21, \"q\", -78, [\"What is the answer?\"], [[42]]]"
   ]
  },
  {
   "cell_type": "markdown",
   "metadata": {
    "colab_type": "text",
    "id": "i13IgPBCPwoX"
   },
   "source": [
    "Keep in mind that a list is an *iterable* object which means that you can directly go through it without the indices. The following two snippets will output the exact same thing:\n",
    "\n"
   ]
  },
  {
   "cell_type": "code",
   "execution_count": 0,
   "metadata": {
    "colab": {},
    "colab_type": "code",
    "id": "BsPgjATKP4xQ"
   },
   "outputs": [],
   "source": [
    "# you should not use this:\n",
    "for index in range(len(my_list)):\n",
    "  print(\"One of the elements of the list is '{}'\".format(my_list[index]))\n",
    "\n",
    "print(\"-----------------------\")\n",
    "\n",
    "# we prefer the following in python:\n",
    "for element in my_list:\n",
    "  print(\"One of the elements of the list is '{}'\".format(element))\n",
    "\n"
   ]
  },
  {
   "cell_type": "markdown",
   "metadata": {
    "colab_type": "text",
    "id": "QiK8AnZsQaKq"
   },
   "source": [
    "*Useful trick:* You can iterate through both the index and the value of the list using the function `enumerate()`:"
   ]
  },
  {
   "cell_type": "code",
   "execution_count": 0,
   "metadata": {
    "colab": {},
    "colab_type": "code",
    "id": "vs0WPxUFQt4G"
   },
   "outputs": [],
   "source": [
    "for index, value in enumerate(my_list):\n",
    "  print(\"The element of the list at index {} is '{}'\".format(index, value))"
   ]
  },
  {
   "cell_type": "markdown",
   "metadata": {
    "colab_type": "text",
    "id": "oSoQQpE5_sCj"
   },
   "source": [
    "Note that the indices in Python start with 0 (and not 1!), so:"
   ]
  },
  {
   "cell_type": "code",
   "execution_count": 0,
   "metadata": {
    "colab": {},
    "colab_type": "code",
    "id": "nTruF2aD_4E4"
   },
   "outputs": [],
   "source": [
    "print(\"The first element of the list is: '{}'\".format(my_list[0]))\n",
    "print(\"The second element of the list is: '{}'\".format(my_list[1]))"
   ]
  },
  {
   "cell_type": "markdown",
   "metadata": {
    "colab_type": "text",
    "id": "9DZzBKroBks7"
   },
   "source": [
    "Python allows negative indexing as well:"
   ]
  },
  {
   "cell_type": "code",
   "execution_count": 0,
   "metadata": {
    "colab": {},
    "colab_type": "code",
    "id": "KRfIHF7IBjwe"
   },
   "outputs": [],
   "source": [
    "print(\"The last element of the list is: '{}'\".format(my_list[-1]))\n",
    "print(\"The one before the last element of the list is: '{}'\".format(my_list[-2]))"
   ]
  },
  {
   "cell_type": "markdown",
   "metadata": {
    "colab_type": "text",
    "id": "yyfqSEzUQ3NW"
   },
   "source": [
    "Another useful property of a list is that you can also access a **slice** of it:"
   ]
  },
  {
   "cell_type": "code",
   "execution_count": 0,
   "metadata": {
    "colab": {},
    "colab_type": "code",
    "id": "w8Fc6Y4MRCFt"
   },
   "outputs": [],
   "source": [
    "print(my_list[1:5])"
   ]
  },
  {
   "cell_type": "markdown",
   "metadata": {
    "colab_type": "text",
    "id": "Xy2pew6DRQMi"
   },
   "source": [
    "Try to change the two integers inside the squared brackets. What happens? Basically you can access the values of the list indexed between the first boundary **included** and the last boundary **not included**. \n",
    "\n",
    "You should now be able to explain the output of the following instructions:"
   ]
  },
  {
   "cell_type": "code",
   "execution_count": 0,
   "metadata": {
    "colab": {},
    "colab_type": "code",
    "id": "8ulfxgG9GBxx"
   },
   "outputs": [],
   "source": [
    "simple_list = list(range(10))\n",
    "\n",
    "print(simple_list[:2]) # if you omit the start index, it means from the beginning\n",
    "print(simple_list[4:]) # if you omit the stop index, it means till the end\n",
    "print(simple_list[4:-1]) # note that this is different than the above (why?!)\n",
    "print(simple_list[2:-1:2]) # you can also include a third parameter as the step"
   ]
  },
  {
   "cell_type": "markdown",
   "metadata": {
    "colab_type": "text",
    "id": "YuXkTWNwFzwK"
   },
   "source": [
    "## Modifying a list\n",
    "you can change a specific element of a list, or change the size of a list by  removing or popping existing elements, or by appending new elements:"
   ]
  },
  {
   "cell_type": "code",
   "execution_count": 0,
   "metadata": {
    "colab": {},
    "colab_type": "code",
    "id": "8ujzu2wRSJFL"
   },
   "outputs": [],
   "source": [
    "my_list_copy = my_list[:] # We create a copy of the previous list\n",
    "print(\"Before removing, the list is:\\n{}\\n\".format(my_list_copy))\n",
    "\n",
    "my_list_copy.remove(-78) # remove the \"first\" occurence of \"-78\"\n",
    "print(\"After removing -78, the list is:\\n{}\\n\".format(my_list_copy))\n",
    "\n",
    "popped_element = my_list_copy.pop(2) # remove (and return) the item at index 2\n",
    "print(\"After popping the second element, the list is:\\n{} and the popped element is {}\\n\".format(my_list_copy, popped_element))\n",
    "my_list_copy[1] = \"I changed this element\"\n",
    "print(\"After modification of the second element, the list is:\\n{}\\n\".format(my_list_copy))\n",
    "my_list_copy.append(78.9)\n",
    "print(\"After appending 78.9, the list is:\\n{}\\n\".format(my_list_copy))"
   ]
  },
  {
   "cell_type": "markdown",
   "metadata": {
    "colab_type": "text",
    "id": "Xs-tv_1eTZza"
   },
   "source": [
    "T|ry to change some indices or values used as arguments and rerun the cell. What do you observe? Please note that `remove()` only deletes the **first** occurance of the argument in the list. `pop()` would remove and **return** the element corresponding to the specified index (which can also be a negative index, which you should know what the interpretation is by now)."
   ]
  },
  {
   "cell_type": "markdown",
   "metadata": {
    "colab_type": "text",
    "id": "2blMGkGcLfyz"
   },
   "source": [
    "## List comprehension\n",
    "Instead of creating new lists every time we perform operations on them, python provides a compact and useful way to deal with that. It is called list comprehension. For instance"
   ]
  },
  {
   "cell_type": "code",
   "execution_count": 0,
   "metadata": {
    "colab": {},
    "colab_type": "code",
    "id": "Ay7e58aZVSlz"
   },
   "outputs": [],
   "source": [
    "print([i**5 for i in range(1,6)])"
   ]
  },
  {
   "cell_type": "markdown",
   "metadata": {
    "colab_type": "text",
    "id": "WViyPmnHVZOG"
   },
   "source": [
    "It creates a list of each element between 1 and 5 (included) to the power of five. You can play with the numbers inside the `range()` to see what happens. What is the output if instead of `i**5` you have (2*i+1)**2? <br/>\n",
    "You can embed some conditions inside the list comprehension:"
   ]
  },
  {
   "cell_type": "code",
   "execution_count": 0,
   "metadata": {
    "colab": {},
    "colab_type": "code",
    "id": "Bp1ZIMtlV7Jg"
   },
   "outputs": [],
   "source": [
    "print([i**10 for i in range(1,5) if (i == 2 or i == 4)])"
   ]
  },
  {
   "cell_type": "markdown",
   "metadata": {
    "colab_type": "text",
    "id": "XJHoRg1HWBe_"
   },
   "source": [
    "Although `i` will take all the value between 1 and 4, only 2<sup>10</sup> and 4<sup>10</sup> will be kept in the output list. Try to change this line to output only 3<sup>6</sup> and 5<sup>6</sup>. <br/>\n",
    "You can even add more complexity using *if/else* statement inside."
   ]
  },
  {
   "cell_type": "code",
   "execution_count": 0,
   "metadata": {
    "colab": {},
    "colab_type": "code",
    "id": "VqBUzyHoWtQp"
   },
   "outputs": [],
   "source": [
    "print([val * 10 if val <=5 else val *2 for val in range(1, 11)])"
   ]
  },
  {
   "cell_type": "markdown",
   "metadata": {
    "colab_type": "text",
    "id": "rRaUVYyWW3Og"
   },
   "source": [
    "Thanks to the *if/else* statement we can have two different operations carried out on the values of the `range()` based on their value. Now let's try to modify the previous line to get a list containing the cube of all numbers lower than 6 and the square of all values above 8."
   ]
  },
  {
   "cell_type": "markdown",
   "metadata": {
    "colab_type": "text",
    "id": "1FJJ0B-lMvwm"
   },
   "source": [
    "## Declaring and using functions\n",
    "It is very likely that some operations have to be carried out several times, but not with the same values. Instead of duplicating code, you can create functions."
   ]
  },
  {
   "cell_type": "code",
   "execution_count": 0,
   "metadata": {
    "colab": {},
    "colab_type": "code",
    "id": "LAkLpdiDXuCa"
   },
   "outputs": [],
   "source": [
    "def mean_function(value1, value2):\n",
    "  # You can do operations here\n",
    "  # ...\n",
    "  # But don't forget to return something\n",
    "  return (value1 + value2) / 2"
   ]
  },
  {
   "cell_type": "markdown",
   "metadata": {
    "colab_type": "text",
    "id": "3_qvF6wGX1FI"
   },
   "source": [
    "If you run the above cell, nothing happens. It is because we just created this function and that we made python aware of its existence. Now we can use it"
   ]
  },
  {
   "cell_type": "code",
   "execution_count": 0,
   "metadata": {
    "colab": {},
    "colab_type": "code",
    "id": "UWMb6IMcYBbW"
   },
   "outputs": [],
   "source": [
    "print(\"The mean of 5 and 6 is: {}\".format(mean_function(5, 6)))\n",
    "print(\"The mean of 7 and 89 is: {}\".format(mean_function(7, 89)))\n",
    "print(\"The mean of -78 and 983 is: {}\".format(mean_function(-78, 983)))"
   ]
  },
  {
   "cell_type": "markdown",
   "metadata": {
    "colab_type": "text",
    "id": "2OrjK8gLYjHZ"
   },
   "source": [
    "As you can see, we can now use this function as much as we want and with different values! Try with your own value. You can even try with floats instead of integers.\n"
   ]
  },
  {
   "cell_type": "markdown",
   "metadata": {
    "colab_type": "text",
    "id": "v2m8VJzlM2P-"
   },
   "source": [
    "# Numpy basics\n",
    "\n",
    "When dealing with high dimensional problems, we are going to deal with nested lists, which can be a bit painful. That is why we are going to now introduce numpy, a (very useful) python library allowing, among other things, to manipulate multi-dimensional arrays and perform linear algebra. Of course this lab cannot cover all the useful functions contained in numpy, so we advise you to have a look at [here](https://numpy.org/) when needed!"
   ]
  },
  {
   "cell_type": "markdown",
   "metadata": {
    "colab_type": "text",
    "id": "5Oo82uOUM7zi"
   },
   "source": [
    "## Numpy arrays\n",
    "In order to use what numpy provides, we are not going to work with lists any more (even if they are still useful) but numpy arrays. Although it's possible it is better to convert lists containing only *integers*, *floats* or nested lists of those. For instance:"
   ]
  },
  {
   "cell_type": "code",
   "execution_count": 0,
   "metadata": {
    "colab": {},
    "colab_type": "code",
    "id": "4pQMVEO7aAsx"
   },
   "outputs": [],
   "source": [
    "import numpy as np\n",
    "\n",
    "my_first_np_array = np.array([5, 9, 8, 5.7, 75])\n",
    "print(\"The shape of the first array is {}\".format(my_first_np_array.shape))\n",
    "\n",
    "my_second_np_array = np.array([[3,-1,5], [5,4,3.8]])\n",
    "print(\"The shape of the second array is {}\".format(my_second_np_array.shape))"
   ]
  },
  {
   "cell_type": "markdown",
   "metadata": {
    "colab_type": "text",
    "id": "_8NR_q5EalDb"
   },
   "source": [
    "In the first case it is equivalent to a vector with 5 elements. In the second it is equivalent to have a matrix with two rows and 3 columns. Try to change the values and dimensions of the lists to understand the constraints about the dimensions.\n",
    "\n",
    "## Element-wise operations\n",
    "Let's try, as an exercise to implement the element-wise addition of two lists: `[1, 2, 3]` and `[7, 8, 9]`. Then try to do it with the following matrices: `[[1,2,3], [4,5,6]]` and `[[4,5,6], [1,2,3]]`.*You can create a function for that!*"
   ]
  },
  {
   "cell_type": "code",
   "execution_count": 0,
   "metadata": {
    "colab": {},
    "colab_type": "code",
    "id": "c7MSm41qbkZv"
   },
   "outputs": [],
   "source": [
    "# Your code can be written and executed in this cell (you can also create one for each exercise)"
   ]
  },
  {
   "cell_type": "markdown",
   "metadata": {
    "colab_type": "text",
    "id": "c9oOxaU0bnma"
   },
   "source": [
    "Now let's try to do it with numpy! You will see, it is quite convenient!\n"
   ]
  },
  {
   "cell_type": "code",
   "execution_count": 0,
   "metadata": {
    "colab": {},
    "colab_type": "code",
    "id": "FF2apeSjbyOO"
   },
   "outputs": [],
   "source": [
    "added_vectors = np.array([1, 2, 3]) + np.array([7, 8, 9])\n",
    "print(added_vectors) # If you want a list and not a numpy array you can do added_vectors.tolist()\n",
    "\n",
    "print(\"--------------\")\n",
    "\n",
    "added_matrices = np.array([[1,2,3], [4,5,6]]) + np.array([[4,5,6], [1,2,3]])\n",
    "print(added_matrices)"
   ]
  },
  {
   "cell_type": "markdown",
   "metadata": {
    "colab_type": "text",
    "id": "NCWgy9a7cyOA"
   },
   "source": [
    "You can use these results to compare with the output of your functions. They should be the same! As you can see it is more convenient! And it is also tru for difference, multiplication and division!\n",
    "\n",
    "## Multi-dimensional arrays\n",
    "You can directly create multi-dimensional arrays using some provided functions. For instance you can create a 150x98 matrix with random numbers (drawn from a uniform distribution) using:\n"
   ]
  },
  {
   "cell_type": "code",
   "execution_count": 0,
   "metadata": {
    "colab": {},
    "colab_type": "code",
    "id": "9U0M5w5Td1By"
   },
   "outputs": [],
   "source": [
    "random_matrix = np.random.random([150,98])\n",
    "print(random_matrix)"
   ]
  },
  {
   "cell_type": "markdown",
   "metadata": {
    "colab_type": "text",
    "id": "akZmmJ0oeEOG"
   },
   "source": [
    "If you run the above cell several time you will see that the numbers are changing! Try to create a random 3x3 matrix and a 6x8 matrix containing only 1s (You can look below if you don't manage to do it).\n",
    "\n",
    "### Slicing a numpy array\n",
    "It is possible to slice, change the value of a numpy array using the same syntax as before."
   ]
  },
  {
   "cell_type": "code",
   "execution_count": 0,
   "metadata": {
    "colab": {},
    "colab_type": "code",
    "id": "a0LjqFhlep5o"
   },
   "outputs": [],
   "source": [
    "example_array = np.ones([8,4])\n",
    "print(\"Initial array is: \\n {}\".format(example_array))\n",
    "example_array[4,2] = 2\n",
    "example_array[0,3] = 3\n",
    "example_array[6,1] = 4\n",
    "print(\"Modified array is \\n {}\".format(example_array))\n",
    "three_first_columns = example_array[:, :3]\n",
    "print(\"The three first columns are: \\n {}\".format(three_first_columns))"
   ]
  },
  {
   "cell_type": "markdown",
   "metadata": {
    "colab_type": "text",
    "id": "odOLvPKgferf"
   },
   "source": [
    "Now try to print the 4 last rows of the numpy array. What about extracting only the smallest rectangle containing the 2 and 4?\n",
    "\n",
    "## Modifying the size of an array\n",
    "\n",
    "Sometimes we want the size of the array to change without changing its content.\n",
    "Try to **reshape** the given array to a 5x4 matrix."
   ]
  },
  {
   "cell_type": "code",
   "execution_count": 0,
   "metadata": {
    "colab": {},
    "colab_type": "code",
    "id": "kA0cqYddgQpW"
   },
   "outputs": [],
   "source": [
    "given_array = np.array([[1, 2, 3, 4, 5, 6, 7, 8, 9, 10], [11 ,12 ,13, 14, 15, 16, 17, 18, 19, 20]])"
   ]
  },
  {
   "cell_type": "markdown",
   "metadata": {
    "colab_type": "text",
    "id": "iUx6cV8Wg3Gj"
   },
   "source": [
    "Now let's try to make it as a 2x10 matrix. You have different ways to do so. Can you make it a 7x3 matrix? If not try to understand why. <br/>\n",
    "\n",
    "You can also change the size of the array by stacking new rows or columns. Try to stack a row and a column of 1s to the following matrix:"
   ]
  },
  {
   "cell_type": "code",
   "execution_count": 0,
   "metadata": {
    "colab": {},
    "colab_type": "code",
    "id": "yF_Rq89phRJT"
   },
   "outputs": [],
   "source": [
    "matrix_to_change = np.zeros([3,4])"
   ]
  },
  {
   "cell_type": "markdown",
   "metadata": {
    "colab_type": "text",
    "id": "n3IHtRq3hWni"
   },
   "source": [
    "What are the different constraints about the dimensions of the stacked vectors (or matrices)?\n",
    "\n",
    "## Linear algebra\n",
    "\n",
    "Without numpy, compute the scalar product between two vectors (`[15, 7, 89, -7, 2, 6, 78, 6, 14, -12, 5.6]` and `[4.8, -98, 1, 2, -4, 7, 0.4, 16, 54, 78, 99]`). Still without numpy, create a function computing the matrix multiplication (not element-wise) between `[[1, 2, 3, -8], [4, 5, 6, 7], [-1, -1, 2, 3], [8, 7, 2, 10]]` and `[[-4, 5, 6, -1], [1, 2, 31, 8], [-7, 8, 5, 2], [4, 4, -4, 3]]`."
   ]
  },
  {
   "cell_type": "code",
   "execution_count": 0,
   "metadata": {
    "colab": {},
    "colab_type": "code",
    "id": "4VzNxzXNiYN4"
   },
   "outputs": [],
   "source": [
    "# Your code can be written and executed in this cell (you can also create one for each exercise)"
   ]
  },
  {
   "cell_type": "markdown",
   "metadata": {
    "colab_type": "text",
    "id": "Fvxa7fB7ilKd"
   },
   "source": [
    "Now let's try to do it with numpy! Once again, you will see how convenient numpy is!"
   ]
  },
  {
   "cell_type": "code",
   "execution_count": 0,
   "metadata": {
    "colab": {},
    "colab_type": "code",
    "id": "Et2zzEOcirAQ"
   },
   "outputs": [],
   "source": [
    "scalar_product = np.array([15, 7, 89, -7, 2, 6, 78, 6, 14, -12, 5.6]).dot(np.array([4.8, -98, 1, 2, -4, 7, 0.4, 16, 54, 78, 99]))\n",
    "print(scalar_product) # If you want a list and not a numpy array you can do scalar_product.tolist()\n",
    "\n",
    "print(\"--------------\")\n",
    "\n",
    "multiplicated_matrix = np.array([[1, 2, 3, -8], [4, 5, 6, 7], [-1, -1, 2, 3], [8, 7, 2, 10]]).dot(np.array([[-4, 5, 6, -1], [1, 2, 31, 8], [-7, 8, 5, 2], [4, 4, -4, 3]]))\n",
    "print(multiplicated_matrix)"
   ]
  },
  {
   "cell_type": "markdown",
   "metadata": {
    "colab_type": "text",
    "id": "xoDgOz5MjOLM"
   },
   "source": [
    "Now you have a hang of what and where numpy can help you for the next labs!"
   ]
  },
  {
   "cell_type": "markdown",
   "metadata": {
    "colab_type": "text",
    "id": "2vvDnBokhuxm"
   },
   "source": [
    "# Some simple exercises\n",
    "\n",
    "1) Create a program that asks the user to enter their name and their age. Print out a message addressed to them that tells them the year that they will turn 100 years old.\n",
    "\n",
    "2) Ask the user for a number. Depending on whether the number is even or odd, print out an appropriate message to the user. (*Version 1*: use the simple division. *Version 2*: use the modulo operator `%`)\n",
    "\n",
    "3) Ask the user for a number greater than 10 (let's say *a*). Then create a list containing all the squared numbers before *a<sup>2</sup>*. Using two list comprehensions, create two lists, one with all the even and the other with all the odd squared numbers."
   ]
  },
  {
   "cell_type": "code",
   "execution_count": 0,
   "metadata": {
    "colab": {},
    "colab_type": "code",
    "id": "cf730PLxx43l"
   },
   "outputs": [],
   "source": [
    "# Your code can be written and executed in this cell (you can also create one for each exercise)"
   ]
  }
 ],
 "metadata": {
  "colab": {
   "collapsed_sections": [],
   "name": "AI_Lab01_Python3_Tutorial.ipynb",
   "provenance": []
  },
  "kernelspec": {
   "display_name": "Python 3",
   "language": "python",
   "name": "python3"
  },
  "language_info": {
   "codemirror_mode": {
    "name": "ipython",
    "version": 3
   },
   "file_extension": ".py",
   "mimetype": "text/x-python",
   "name": "python",
   "nbconvert_exporter": "python",
   "pygments_lexer": "ipython3",
   "version": "3.7.4"
  }
 },
 "nbformat": 4,
 "nbformat_minor": 1
}
