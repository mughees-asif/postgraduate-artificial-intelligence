{
 "cells": [
  {
   "cell_type": "markdown",
   "id": "5e92e73f",
   "metadata": {},
   "source": [
    "<h1><center> ECS759P Artificial Intelligence: Coursework 2 </center></h1>\n",
    "<h2><center> Logic and Reasoning, Neural Networks and Classification </center></h2>\n",
    "<h3><center> Mughees Asif &#9644; 180288337 </center></h3>\n",
    "\n",
    "---"
   ]
  },
  {
   "cell_type": "markdown",
   "id": "c19e5d35",
   "metadata": {},
   "source": [
    "## Abstract\n",
    "\n",
    "The following notebook displays the development, training and testing of a **Convolutional Neural Network** (`CNN`) to classify between different items of clothing. The model is trained using the [Fashion-MNIST](https://github.com/zalandoresearch/fashion-mnist#fashion-mnist) dataset. The final train and test accuracy were found to be $97\\%$ and $89\\%$, respectively. Additionally, various parameters including the learning rate, activation functions, and dropout layers were modified/added to observe the behaviour of the model. "
   ]
  },
  {
   "cell_type": "markdown",
   "id": "e576de88",
   "metadata": {},
   "source": [
    "## Contents <a class=\"anchor\" id=\"contents\"></a>\n",
    "\n",
    "&nbsp;&nbsp;&nbsp;&nbsp;**1. [Background](#background)** <br />\n",
    "\n",
    "&nbsp;&nbsp;&nbsp;&nbsp;**2. [Imports](#imports)** <br />\n",
    "\n",
    "&nbsp;&nbsp;&nbsp;&nbsp;**3. [Loading the dataset](#dataset)** <br />\n",
    "\n",
    "&nbsp;&nbsp;&nbsp;&nbsp;**4. [Neural Network](#nn)** <br />\n",
    "\n",
    "&nbsp;&nbsp;&nbsp;&nbsp;**5. [Evaluation](#eval)** <br />\n",
    "\n",
    "&nbsp;&nbsp;&nbsp;&nbsp;**6. [Testing](#testing)** <br />\n",
    "\n",
    "&nbsp;&nbsp;&nbsp;&nbsp;**7. [Visualisation](#vis)** <br />"
   ]
  },
  {
   "cell_type": "markdown",
   "id": "521f8864",
   "metadata": {},
   "source": [
    "<div class=\"alert alert-block alert-info\">\n",
    "<b>Tip:</b> To return to the contents, press the ⬆ icon.</div>"
   ]
  },
  {
   "cell_type": "markdown",
   "id": "5edc26aa",
   "metadata": {},
   "source": [
    "## 1. Background <a class=\"anchor\" id=\"background\"></a> [⬆](#contents)\n",
    "\n",
    "Convolutional Neural Networks use a mathematical property known as **convolution** instead of using general matrix multiplication<sup>[1](#myfootnote1)</sup>:\n",
    "\n",
    "> A Convolutional Neural Network is a Deep Learning [methodology] which can take in an input image, assign importance (learnable weights and biases) to various aspects/objects in the image and be able to differentiate one from the other.\n",
    "\n",
    "<img src=\"https://miro.medium.com/max/2000/1*vkQ0hXDaQv57sALXAJquxA.jpeg\" alt=\"CNN Architecture\" title=\"CNN\" width=\"500\" />\n",
    "<br/>\n",
    "<center><i>Figure 1</i>: CNN sequence</center>\n",
    "\n",
    "---\n",
    "<a name=\"myfootnote1\"><sup>1</sup></a>Saha, S., 2018. A Comprehensive Guide to Convolutional Neural Networks. [online] Medium. Available at: <[Link](https://towardsdatascience.com/a-comprehensive-guide-to-convolutional-neural-networks-the-eli5-way-3bd2b1164a53)> [Accessed 12 December 2021]."
   ]
  },
  {
   "cell_type": "markdown",
   "id": "20d59150",
   "metadata": {},
   "source": [
    "<div class=\"alert alert-block alert-warning\">\n",
    "    <b>Warning:</b> This notebook has been developed using material from the official QM labs and generic code snippets from online resources.\n",
    "</div>"
   ]
  },
  {
   "cell_type": "markdown",
   "id": "6c4a8922",
   "metadata": {},
   "source": [
    "## 2. Imports <a class=\"anchor\" id=\"imports\"></a> [⬆](#contents)"
   ]
  },
  {
   "cell_type": "code",
   "execution_count": 1,
   "id": "b443adae",
   "metadata": {},
   "outputs": [],
   "source": [
    "import torch\n",
    "import torch.nn as nn\n",
    "from torch.autograd import Variable\n",
    "import torch.optim as optim\n",
    "import torchvision\n",
    "import torchvision.transforms as transforms\n",
    "import torchvision.datasets as dsets\n",
    "import torch.nn.functional as F\n",
    "import matplotlib.pyplot as plt"
   ]
  },
  {
   "cell_type": "markdown",
   "id": "b5dc1b45",
   "metadata": {},
   "source": [
    "## 3. Loading the dataset <a class=\"anchor\" id=\"dataset\"></a> [⬆](#contents)"
   ]
  },
  {
   "cell_type": "code",
   "execution_count": 2,
   "id": "1e506e83",
   "metadata": {
    "colab": {
     "base_uri": "https://localhost:8080/",
     "height": 1000
    },
    "id": "1e506e83",
    "outputId": "c9911bfe-e389-43d7-c011-363cf8434cf7",
    "scrolled": true
   },
   "outputs": [],
   "source": [
    "train_set = torchvision.datasets.FashionMNIST(root=\".\", train=True,\n",
    "                                              download=True, transform=transforms.ToTensor())\n",
    "test_set = torchvision.datasets.FashionMNIST(root=\".\", train=False,\n",
    "                                             download=True, transform=transforms.ToTensor())\n",
    "training_loader = torch.utils.data.DataLoader(train_set, batch_size=32,\n",
    "                                              shuffle=False)\n",
    "test_loader = torch.utils.data.DataLoader(test_set, batch_size=32,\n",
    "                                          shuffle=False)\n",
    "torch.manual_seed(0)\n",
    "\n",
    "# If you are using CuDNN , otherwise you can just ignore\n",
    "torch.backends.cudnn.deterministic = True\n",
    "torch.backends.cudnn.benchmark = False"
   ]
  },
  {
   "cell_type": "markdown",
   "id": "59227016",
   "metadata": {},
   "source": [
    "## 4. Neural Network <a class=\"anchor\" id=\"nn\"></a> [⬆](#contents)\n",
    "\n",
    "This section details the development of the neural network that corresponds to the following structure:\n",
    "\n",
    "* 1 input image channel:\n",
    "    - 32 output channels \n",
    "    - 5$\\times$5 square convolution kernel\n",
    "* 32 input image channel\n",
    "    - 64 output channels \n",
    "    - 5$\\times$5 square convolution kernel\n",
    "* `Xavier` initialisation for weights\n",
    "* 2 $\\times$ fully connected layers\n",
    "* `Dropout` layer (only used for _Task 4_)\n",
    "* Activation function: `RELU` (default)<sup>[2](#myfootnote2)</sup>\n",
    "\n",
    "---\n",
    "<a name=\"myfootnote2\"><sup>2</sup></a>Altered, as needed, throughout the project."
   ]
  },
  {
   "cell_type": "code",
   "execution_count": 3,
   "id": "70f25020",
   "metadata": {},
   "outputs": [],
   "source": [
    "# init neural network\n",
    "class NeuralNetwork(nn.Module):\n",
    "\n",
    "    def __init__(self):\n",
    "        super(NeuralNetwork, self).__init__()\n",
    "        \n",
    "        # input image channel\n",
    "        self.conv1 = nn.Conv2d(1, 32, 5)\n",
    "        # 32 input image channel\n",
    "        self.conv2 = nn.Conv2d(32, 64, 5)\n",
    "        \n",
    "        # xavier initialisation \n",
    "        nn.init.xavier_normal_(self.conv1.weight)\n",
    "        nn.init.xavier_normal_(self.conv2.weight)\n",
    "        \n",
    "        # fully connected layers\n",
    "        self.fc1 = nn.Linear(64 * 4 * 4, 256)\n",
    "        nn.init.xavier_normal_(self.fc1.weight)\n",
    "        self.fc2 = nn.Linear(256, 10)\n",
    "        nn.init.xavier_normal_(self.fc2.weight)\n",
    "        \n",
    "        # dropout layer\n",
    "        self.dropout = torch.nn.Dropout(0.3) \n",
    "\n",
    "    def forward(self, x):\n",
    "        # max pooling (2x2 window)\n",
    "        x = F.max_pool2d(F.relu(self.conv1(x)), (2, 2))\n",
    "        x = F.max_pool2d(F.relu(self.conv2(x)), (2, 2))\n",
    "        \n",
    "        # flatten the tensors\n",
    "        x = x.view(x.size(0), -1)\n",
    "        \n",
    "        # activation function\n",
    "        x = F.relu(self.fc1(x))\n",
    "        \n",
    "        # output \n",
    "        x = self.fc2(x)\n",
    "        \n",
    "        # dropout on the 2nd fully connected layer\n",
    "        # x = self.dropout(self.fc2(x))\n",
    "\n",
    "        return x"
   ]
  },
  {
   "cell_type": "markdown",
   "id": "7a8ea076",
   "metadata": {},
   "source": [
    "## 5. Evaluation <a class=\"anchor\" id=\"eval\"></a> [⬆](#contents)\n",
    "\n",
    "This section contains the `evaluation` method that calculates and returns the accuracy of the trained model."
   ]
  },
  {
   "cell_type": "code",
   "execution_count": 4,
   "id": "5419820d",
   "metadata": {},
   "outputs": [],
   "source": [
    "def evaluation(model, data_loader):\n",
    "    # initiate model evaluation\n",
    "    model.eval()\n",
    "    total, correct = 0, 0\n",
    "    \n",
    "    for data in data_loader:\n",
    "        inputs, label = data\n",
    "        \n",
    "        # use google colab gpu if available\n",
    "        if torch.cuda.is_available():\n",
    "            inputs = inputs.cuda()\n",
    "            label = label.cuda()\n",
    "            \n",
    "        outputs = model(inputs)\n",
    "        _, pred = torch.max(outputs.data, 1)\n",
    "        total = total + label.size(0)\n",
    "        correct = correct + (pred == label).sum().item()\n",
    "        # calculate accuracy\n",
    "        accuracy = 100 * (correct / total)\n",
    "\n",
    "    return accuracy"
   ]
  },
  {
   "cell_type": "markdown",
   "id": "2f9dd225",
   "metadata": {},
   "source": [
    "## 6. Testing <a class=\"anchor\" id=\"testing\"></a> [⬆](#contents)\n",
    "\n",
    "This section allows the testing of the CNN with the following learnable parameters:\n",
    "\n",
    "* Learning rate<sup>[3](#myfootnote3)</sup>\n",
    "* Loss function: `Categorical Cross-Entropy Loss`\n",
    "* Optimizer: `Stochastic Gradient Descent (SGD)`\n",
    "\n",
    "---\n",
    "<a name=\"myfootnote3\"><sup>3</sup></a>Varied throughout the project."
   ]
  },
  {
   "cell_type": "code",
   "execution_count": 5,
   "id": "542d92df",
   "metadata": {
    "scrolled": true
   },
   "outputs": [
    {
     "name": "stdout",
     "output_type": "stream",
     "text": [
      "Epoch [1/50], Loss: 963.0800, Train Accuracy: 87.59%, Test Accuracy: 86.38%\n",
      "Epoch [2/50], Loss: 606.8020, Train Accuracy: 89.84%, Test Accuracy: 88.44%\n",
      "Epoch [3/50], Loss: 523.8262, Train Accuracy: 90.61%, Test Accuracy: 89.00%\n",
      "Epoch [4/50], Loss: 468.4982, Train Accuracy: 91.11%, Test Accuracy: 89.55%\n",
      "Epoch [5/50], Loss: 422.9945, Train Accuracy: 91.72%, Test Accuracy: 89.74%\n",
      "Epoch [6/50], Loss: 382.9132, Train Accuracy: 92.41%, Test Accuracy: 89.79%\n",
      "Epoch [7/50], Loss: 346.9318, Train Accuracy: 92.48%, Test Accuracy: 89.81%\n",
      "Epoch [8/50], Loss: 313.3855, Train Accuracy: 92.75%, Test Accuracy: 89.84%\n",
      "Epoch [9/50], Loss: 281.6924, Train Accuracy: 92.91%, Test Accuracy: 89.49%\n",
      "Epoch [10/50], Loss: 256.4320, Train Accuracy: 93.38%, Test Accuracy: 89.64%\n",
      "Epoch [11/50], Loss: 230.5210, Train Accuracy: 93.24%, Test Accuracy: 89.47%\n",
      "Epoch [12/50], Loss: 215.5981, Train Accuracy: 93.37%, Test Accuracy: 89.53%\n",
      "Epoch [13/50], Loss: 204.5387, Train Accuracy: 93.90%, Test Accuracy: 89.80%\n",
      "Epoch [14/50], Loss: 184.7035, Train Accuracy: 94.19%, Test Accuracy: 89.71%\n",
      "Epoch [15/50], Loss: 176.5428, Train Accuracy: 94.55%, Test Accuracy: 89.69%\n",
      "Epoch [16/50], Loss: 172.1802, Train Accuracy: 94.77%, Test Accuracy: 89.42%\n",
      "Epoch [17/50], Loss: 159.5310, Train Accuracy: 94.95%, Test Accuracy: 89.86%\n",
      "Epoch [18/50], Loss: 141.7956, Train Accuracy: 95.22%, Test Accuracy: 89.61%\n",
      "Epoch [19/50], Loss: 129.3519, Train Accuracy: 95.23%, Test Accuracy: 89.49%\n",
      "Epoch [20/50], Loss: 143.5564, Train Accuracy: 94.84%, Test Accuracy: 89.29%\n",
      "Epoch [21/50], Loss: 125.5837, Train Accuracy: 96.09%, Test Accuracy: 89.72%\n",
      "Epoch [22/50], Loss: 115.3409, Train Accuracy: 96.21%, Test Accuracy: 89.83%\n",
      "Epoch [23/50], Loss: 117.5953, Train Accuracy: 94.16%, Test Accuracy: 88.49%\n",
      "Epoch [24/50], Loss: 117.8356, Train Accuracy: 95.75%, Test Accuracy: 89.65%\n",
      "Epoch [25/50], Loss: 108.4642, Train Accuracy: 95.85%, Test Accuracy: 89.77%\n",
      "Epoch [26/50], Loss: 96.1262, Train Accuracy: 96.58%, Test Accuracy: 89.92%\n",
      "Epoch [27/50], Loss: 105.3364, Train Accuracy: 96.81%, Test Accuracy: 89.77%\n",
      "Epoch [28/50], Loss: 94.4751, Train Accuracy: 96.62%, Test Accuracy: 89.82%\n",
      "Epoch [29/50], Loss: 93.7548, Train Accuracy: 96.79%, Test Accuracy: 89.66%\n",
      "Epoch [30/50], Loss: 82.9816, Train Accuracy: 97.15%, Test Accuracy: 89.97%\n",
      "Epoch [31/50], Loss: 97.8073, Train Accuracy: 96.53%, Test Accuracy: 89.74%\n",
      "Epoch [32/50], Loss: 89.5808, Train Accuracy: 97.34%, Test Accuracy: 89.93%\n",
      "Epoch [33/50], Loss: 80.1599, Train Accuracy: 97.67%, Test Accuracy: 89.92%\n",
      "Epoch [34/50], Loss: 77.2136, Train Accuracy: 97.58%, Test Accuracy: 89.89%\n",
      "Epoch [35/50], Loss: 81.0618, Train Accuracy: 97.46%, Test Accuracy: 89.70%\n",
      "Epoch [36/50], Loss: 84.3833, Train Accuracy: 97.39%, Test Accuracy: 89.96%\n",
      "Epoch [37/50], Loss: 87.9674, Train Accuracy: 97.52%, Test Accuracy: 89.57%\n",
      "Epoch [38/50], Loss: 71.3170, Train Accuracy: 97.89%, Test Accuracy: 89.97%\n",
      "Epoch [39/50], Loss: 73.7283, Train Accuracy: 98.05%, Test Accuracy: 89.98%\n",
      "Epoch [40/50], Loss: 70.2231, Train Accuracy: 97.92%, Test Accuracy: 89.79%\n",
      "Epoch [41/50], Loss: 71.4311, Train Accuracy: 97.86%, Test Accuracy: 89.54%\n",
      "Epoch [42/50], Loss: 69.7102, Train Accuracy: 97.90%, Test Accuracy: 89.96%\n",
      "Epoch [43/50], Loss: 66.0096, Train Accuracy: 97.02%, Test Accuracy: 89.14%\n",
      "Epoch [44/50], Loss: 63.7143, Train Accuracy: 97.72%, Test Accuracy: 89.84%\n",
      "Epoch [45/50], Loss: 71.1115, Train Accuracy: 97.87%, Test Accuracy: 89.43%\n",
      "Epoch [46/50], Loss: 63.1970, Train Accuracy: 97.89%, Test Accuracy: 89.45%\n",
      "Epoch [47/50], Loss: 56.5530, Train Accuracy: 97.55%, Test Accuracy: 89.85%\n",
      "Epoch [48/50], Loss: 65.8454, Train Accuracy: 97.70%, Test Accuracy: 89.85%\n",
      "Epoch [49/50], Loss: 58.5231, Train Accuracy: 98.04%, Test Accuracy: 89.88%\n",
      "Epoch [50/50], Loss: 51.0277, Train Accuracy: 97.76%, Test Accuracy: 89.74%\n"
     ]
    }
   ],
   "source": [
    "# init CNN model\n",
    "model = NeuralNetwork()\n",
    "\n",
    "# learning rate\n",
    "learning_rate = 0.1\n",
    "# loss function\n",
    "criterion = nn.CrossEntropyLoss()\n",
    "# optimizer\n",
    "optimizer = optim.SGD(model.parameters(), lr=learning_rate)\n",
    "\n",
    "# total loss \n",
    "total_loss = []\n",
    "# training accuracy \n",
    "train_accuracy = []\n",
    "# testing accuracy \n",
    "test_accuracy = []\n",
    "\n",
    "# epochs\n",
    "num_epochs = 50\n",
    "\n",
    "\n",
    "for epoch in range(num_epochs):\n",
    "    # loss (batches)\n",
    "    loss_list = []\n",
    "    for i, (images, labels) in enumerate(training_loader):\n",
    "        # train\n",
    "        model.train()\n",
    "        \n",
    "        # use google colab gpu if resources are available\n",
    "        if torch.cuda.is_available():\n",
    "            images = images.cuda()\n",
    "            labels = labels.cuda()\n",
    "            \n",
    "        # forward pass\n",
    "        outputs = model(images)\n",
    "        \n",
    "        # calculate loss\n",
    "        loss = criterion(outputs, labels)\n",
    "        \n",
    "        # append loss to loss in batches\n",
    "        loss_list.append(loss.item())\n",
    "\n",
    "        # zero the gradient\n",
    "        optimizer.zero_grad()\n",
    "        \n",
    "        # backpropagation \n",
    "        loss.backward()\n",
    "        \n",
    "        # SGD optimisation\n",
    "        optimizer.step()\n",
    "\n",
    "    # training accuracy\n",
    "    train_acc = evaluation(model, training_loader)\n",
    "    train_accuracy.append(train_acc)\n",
    "    \n",
    "    # testing accuracy\n",
    "    test_acc = evaluation(model, test_loader)\n",
    "    test_accuracy.append(test_acc)\n",
    "    \n",
    "    # store total loss\n",
    "    total_loss.append(sum(loss_list))\n",
    "    \n",
    "    print('Epoch [{}/{}], Loss: {:.4f}, Train Accuracy: {:.2f}%, Test Accuracy: {:.2f}%'\n",
    "          .format(epoch + 1, num_epochs, sum(loss_list), train_acc, test_acc))"
   ]
  },
  {
   "cell_type": "markdown",
   "id": "6480f65b",
   "metadata": {},
   "source": [
    "## 7. Visualisation <a class=\"anchor\" id=\"vis\"></a> [⬆](#contents)\n",
    "\n",
    "Plots the graphs to view model training."
   ]
  },
  {
   "cell_type": "code",
   "execution_count": 6,
   "id": "24d676cf",
   "metadata": {
    "scrolled": true
   },
   "outputs": [
    {
     "data": {
      "image/png": "[encoded data removed]",
      "text/plain": [
       "<Figure size 432x288 with 1 Axes>"
      ]
     },
     "metadata": {
      "needs_background": "light"
     },
     "output_type": "display_data"
    },
    {
     "data": {
      "image/png": "[encoded data removed]",
      "text/plain": [
       "<Figure size 432x288 with 1 Axes>"
      ]
     },
     "metadata": {
      "needs_background": "light"
     },
     "output_type": "display_data"
    }
   ],
   "source": [
    "plt.plot(train_accuracy, label=\"Train Acc\")\n",
    "plt.plot(test_accuracy, label=\"Test Acc\")\n",
    "plt.title('Test and Train Accuracy at LR={}'.format(learning_rate))\n",
    "plt.legend()\n",
    "plt.show()\n",
    "\n",
    "plt.plot(total_loss, label=\"Loss\")\n",
    "plt.title('Loss per epoch at LR={}'.format(learning_rate))\n",
    "plt.legend()\n",
    "plt.show()"
   ]
  }
 ],
 "metadata": {
  "accelerator": "GPU",
  "colab": {
   "collapsed_sections": [],
   "name": "180288337.ipynb",
   "provenance": []
  },
  "kernelspec": {
   "display_name": "Python 3 (ipykernel)",
   "language": "python",
   "name": "python3"
  },
  "language_info": {
   "codemirror_mode": {
    "name": "ipython",
    "version": 3
   },
   "file_extension": ".py",
   "mimetype": "text/x-python",
   "name": "python",
   "nbconvert_exporter": "python",
   "pygments_lexer": "ipython3",
   "version": "3.9.7"
  }
 },
 "nbformat": 4,
 "nbformat_minor": 5
}
